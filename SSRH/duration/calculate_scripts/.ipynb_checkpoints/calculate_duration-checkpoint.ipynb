{
 "cells": [
  {
   "cell_type": "markdown",
   "id": "5d1082f6",
   "metadata": {},
   "source": [
    "# Calculate Durations of Segments"
   ]
  },
  {
   "cell_type": "markdown",
   "id": "993c61d9",
   "metadata": {},
   "source": [
    "## Import Libraries"
   ]
  },
  {
   "cell_type": "code",
   "execution_count": 1,
   "id": "dd403791",
   "metadata": {},
   "outputs": [],
   "source": [
    "import re, os, sys\n",
    "import pandas as pd\n",
    "\n",
    "from config import INPUT_PATH, PHONE_TIER"
   ]
  },
  {
   "cell_type": "markdown",
   "id": "2614c70d",
   "metadata": {},
   "source": [
    "## Classes"
   ]
  },
  {
   "cell_type": "code",
   "execution_count": 2,
   "id": "ae2c32ff",
   "metadata": {},
   "outputs": [],
   "source": [
    "# to do: may need to add info about previous and following segment, \n",
    "# ------ location of segment within word, syllable structure, etc\n",
    "\n",
    "class Interval:\n",
    "    \"\"\"\n",
    "    Class to store start point, end point, duration, and label of an interval\n",
    "    \"\"\"\n",
    "    def __init__(self, start_point = 0.0, end_point = 0.0, label = \"\"):\n",
    "        self.start_point = float(start_point)\n",
    "        self.end_point = float(end_point)\n",
    "        self.duration = -1\n",
    "        self.label = str(label)\n",
    "    def calculate_duration(self):\n",
    "        return (self.end_point - self.start_point)\n",
    "    def __str__(self):\n",
    "        return f'start_point: {self.start_point}\\nend_point: {self.end_point}\\nlabel: {self.label}\\nduration: {self.duration}'\n",
    "\n"
   ]
  },
  {
   "cell_type": "markdown",
   "id": "87a2e60b",
   "metadata": {},
   "source": [
    "## Helper Functions"
   ]
  },
  {
   "cell_type": "code",
   "execution_count": 14,
   "id": "2bf41067",
   "metadata": {},
   "outputs": [],
   "source": [
    "def extract_info(interval, line):\n",
    "    \"\"\"\n",
    "    Extract relevant information from line and add it to Interval object\n",
    "    \"\"\"\n",
    "    if 'xmin = ' in line:\n",
    "        start_point = re.sub(r'.*xmin = (\\d*\\.*\\d*)', '\\\\1', line)\n",
    "        interval.start_point = float(start_point)\n",
    "    elif 'xmax = ' in line:\n",
    "        end_point = re.sub(r'.*xmax = (\\d*\\.*\\d*)', '\\\\1', line)\n",
    "        interval.end_point = float(end_point)\n",
    "    elif 'text = ' in line:\n",
    "        label = re.sub(r'.*text = \"(.*)\"', '\\\\1', line)\n",
    "        label = label.strip()\n",
    "        if label:\n",
    "            interval.label = label\n",
    "    return interval\n"
   ]
  },
  {
   "cell_type": "code",
   "execution_count": 15,
   "id": "7a095e6c",
   "metadata": {},
   "outputs": [],
   "source": [
    "def df_greater_than_mean(df, column_name = 'duration'):\n",
    "    \"\"\"\n",
    "    return dataframe greater than the mean of the column\n",
    "    \"\"\"\n",
    "    return df[df[column_name] > df[column_name].mean()]"
   ]
  },
  {
   "cell_type": "code",
   "execution_count": 47,
   "id": "d9f818d1",
   "metadata": {},
   "outputs": [],
   "source": [
    "def read_input(in_folder_name = INPUT_PATH):\n",
    "    \"\"\"\n",
    "    read in all textgrid files from folder as list of Interval objects\n",
    "    \"\"\"\n",
    "    intervals = []\n",
    "    for file_name in os.listdir(in_folder_name):\n",
    "        if not file_name.endswith('.TextGrid'):\n",
    "            continue\n",
    "\n",
    "        with open(os.path.join(in_folder_name, file_name), 'r', encoding='utf8') as in_file:\n",
    "            is_phone_tier = False\n",
    "            current_interval = Interval()\n",
    "            for line in in_file:\n",
    "                # entered tier with phone segments\n",
    "                if PHONE_TIER in line:\n",
    "                    is_phone_tier = True\n",
    "                # no longer in phone tier\n",
    "                elif 'name = ' in line:\n",
    "                    is_phone_tier = False\n",
    "                \n",
    "                # extract info if in phone tier\n",
    "                if is_phone_tier:\n",
    "                    current_interval = extract_info(current_interval, line)\n",
    "                # label has been filled, this interval is complete\n",
    "                if current_interval.label:\n",
    "                    # calculate duration and store it in the object\n",
    "                    current_interval.duration = current_interval.calculate_duration()\n",
    "                    # add to list of interval objects and clear current interval\n",
    "                    intervals.append(current_interval)\n",
    "                    current_interval = Interval()\n",
    "    return intervals\n"
   ]
  },
  {
   "cell_type": "markdown",
   "id": "5538a571",
   "metadata": {},
   "source": [
    "### Main Function"
   ]
  },
  {
   "cell_type": "code",
   "execution_count": 48,
   "id": "b7a5fb76",
   "metadata": {},
   "outputs": [],
   "source": [
    "\n",
    "# read in list of interval objects\n",
    "segment_intervals = read_input()\n",
    "\n",
    "# convert list of interval objects to dataframe\n",
    "master_df = pd.DataFrame([interval.__dict__ for interval in segment_intervals])\n",
    "\n",
    "# create dictionary of dataframes based on values in 'label' column\n",
    "all_segments_df = {elem : pd.DataFrame() for elem in master_df.label.unique()}\n",
    "\n",
    "# fill values based on key\n",
    "for key in all_segments_df.keys():\n",
    "    all_segments_df[key] = master_df[:][master_df.label == key]\n",
    "\n"
   ]
  },
  {
   "cell_type": "code",
   "execution_count": 51,
   "id": "6d1f120c",
   "metadata": {},
   "outputs": [
    {
     "data": {
      "text/plain": [
       "array(['<p:>', 'd', 'i:', '?', 'o:', 'm', 'a', 'h', 't', '@', 'b', 'S',\n",
       "       'l', 'O', 's', 'z', 'C', 'p', 'f', 'E', 'aU', '6', 'g', 'u:', 'x',\n",
       "       'v', 'r', 'aI', 'I', 'n', 'a:', 'e:', 'U', 'N', 'ts', 'OY', 'k',\n",
       "       'o', 'u', 'j', 'e', 'dZ'], dtype=object)"
      ]
     },
     "execution_count": 51,
     "metadata": {},
     "output_type": "execute_result"
    }
   ],
   "source": [
    "# example output - access dataframe by label as key\n",
    "all_segments_df['r']\n",
    "\n",
    "master_df.label.unique()"
   ]
  },
  {
   "cell_type": "code",
   "execution_count": 52,
   "id": "f7a98b71",
   "metadata": {},
   "outputs": [
    {
     "ename": "NameError",
     "evalue": "name 'plosive_frames' is not defined",
     "output_type": "error",
     "traceback": [
      "\u001b[0;31m---------------------------------------------------------------------------\u001b[0m",
      "\u001b[0;31mNameError\u001b[0m                                 Traceback (most recent call last)",
      "\u001b[0;32m<ipython-input-52-4f1fe45fcf9c>\u001b[0m in \u001b[0;36m<module>\u001b[0;34m\u001b[0m\n\u001b[1;32m      5\u001b[0m \u001b[0;34m\u001b[0m\u001b[0m\n\u001b[1;32m      6\u001b[0m \u001b[0;31m# concatenate the dataframes\u001b[0m\u001b[0;34m\u001b[0m\u001b[0;34m\u001b[0m\u001b[0m\n\u001b[0;32m----> 7\u001b[0;31m \u001b[0mplosive_df\u001b[0m \u001b[0;34m=\u001b[0m \u001b[0mpd\u001b[0m\u001b[0;34m.\u001b[0m\u001b[0mconcat\u001b[0m\u001b[0;34m(\u001b[0m\u001b[0mplosive_frames\u001b[0m\u001b[0;34m)\u001b[0m\u001b[0;34m\u001b[0m\u001b[0;34m\u001b[0m\u001b[0m\n\u001b[0m\u001b[1;32m      8\u001b[0m \u001b[0;34m\u001b[0m\u001b[0m\n\u001b[1;32m      9\u001b[0m \u001b[0;31m# extract rows that have duration larger than the mean\u001b[0m\u001b[0;34m\u001b[0m\u001b[0;34m\u001b[0m\u001b[0m\n",
      "\u001b[0;31mNameError\u001b[0m: name 'plosive_frames' is not defined"
     ]
    }
   ],
   "source": [
    "# plosives\n",
    "\n",
    "# extract plosives as dictionary of dataframes\n",
    "plosive_frames_dict = {k: all_segments_df.get(k, None) for k in ('d', 't', 'b', 'p', 'g', 'k')}\n",
    "\n",
    "# concatenate the dataframes\n",
    "plosive_df = pd.concat(plosive_frames_dict)\n",
    "\n",
    "# extract rows that have duration larger than the mean\n",
    "df_greater_than_mean(plosive_df)\n"
   ]
  },
  {
   "cell_type": "code",
   "execution_count": null,
   "id": "e67ad470",
   "metadata": {},
   "outputs": [],
   "source": []
  }
 ],
 "metadata": {
  "kernelspec": {
   "display_name": "Python 3",
   "language": "python",
   "name": "python3"
  },
  "language_info": {
   "codemirror_mode": {
    "name": "ipython",
    "version": 3
   },
   "file_extension": ".py",
   "mimetype": "text/x-python",
   "name": "python",
   "nbconvert_exporter": "python",
   "pygments_lexer": "ipython3",
   "version": "3.9.13"
  }
 },
 "nbformat": 4,
 "nbformat_minor": 5
}
