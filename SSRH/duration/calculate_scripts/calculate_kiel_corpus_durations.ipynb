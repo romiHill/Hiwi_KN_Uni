{
 "cells": [
  {
   "cell_type": "code",
   "execution_count": 4,
   "id": "d0fc2452",
   "metadata": {},
   "outputs": [],
   "source": [
    "import re, os, sys\n",
    "import pandas as pd\n",
    "\n",
    "from config import KIEL_CORPUS_PATH\n",
    "from data_structures.Interval import Interval"
   ]
  },
  {
   "cell_type": "markdown",
   "id": "477fa3eb",
   "metadata": {},
   "source": [
    "# Classes"
   ]
  },
  {
   "cell_type": "code",
   "execution_count": 82,
   "id": "2e57e22f",
   "metadata": {},
   "outputs": [],
   "source": [
    "class WordDurations:\n",
    "    \"\"\"\n",
    "    Class to store phoneme info based on word, syllable position, etc\n",
    "    \"\"\"\n",
    "    def __init__(self, word, segment = '', realization = '', basic = ''):\n",
    "        self.word = str(word)\n",
    "        self.segment = str(segment)\n",
    "        self.realization = str(realization)\n",
    "        self.basic = str(basic)\n",
    "    def __str__(self):\n",
    "        return f\"Word: {self.word}\\tsegment: {self.segment}\\trealization: {self.realization}\"\n",
    "        "
   ]
  },
  {
   "cell_type": "markdown",
   "id": "b67cc7c6",
   "metadata": {},
   "source": [
    "# Read Input"
   ]
  },
  {
   "cell_type": "code",
   "execution_count": 104,
   "id": "66582f48",
   "metadata": {},
   "outputs": [],
   "source": [
    "def extract_elements_from_line(master_list: list, line_list: list, line: str):\n",
    "    \"\"\"\n",
    "    Extract elements from line into the master list\n",
    "    \"\"\"\n",
    "    # element boundary is two white spaces for segment & realization tiers, one for original tier\n",
    "    print(test)\n",
    "    if '\\n' in line_list:\n",
    "        line_list.remove('\\n')\n",
    "    for i in range(len(line_list)):\n",
    "        master_list.append(line_list[i])\n",
    "    return master_list\n"
   ]
  },
  {
   "cell_type": "code",
   "execution_count": 105,
   "id": "e64bdcdf",
   "metadata": {},
   "outputs": [],
   "source": [
    "def read_input(in_folder_name = KIEL_CORPUS_PATH):\n",
    "    \"\"\"\n",
    "    read in all .s1h files from folder as list of WordDuration objects\n",
    "    \"\"\"\n",
    "    intervals = []\n",
    "    for file_name in os.listdir(in_folder_name):\n",
    "        if not file_name.endswith('.s1h'):\n",
    "            continue\n",
    "\n",
    "        with open(os.path.join(in_folder_name, file_name), 'r', encoding='utf8') as in_file:\n",
    "            is_orig_tier = False\n",
    "            is_segment_tier = False\n",
    "            is_realized_tier = False\n",
    "            is_basic_tier = False\n",
    "            \n",
    "            original_tier = []\n",
    "            segment_tier = []\n",
    "            realized_tier = []\n",
    "            basic_tier = []\n",
    "            \n",
    "            word_durations = []\n",
    "            \n",
    "            for i, line in enumerate(in_file):\n",
    "                if i == 1:\n",
    "                    is_orig_tier = True\n",
    "                    orig_tier_list = line.strip('\\n').split(' ')[2:]                    \n",
    "                    extract_elements_from_line(original_tier, orig_tier_list, line)\n",
    "\n",
    "                    original_tier = extract_elements_from_line(original_tier, orig_tier_list, line)\n",
    "\n",
    "                        \n",
    "                elif line.startswith('oend'):\n",
    "                    is_orig_tier = False\n",
    "                    is_segment_tier = True\n",
    "                \n",
    "                elif line.startswith('kend'):\n",
    "                    is_segment_tier = False\n",
    "                    is_realized_tier = True\n",
    "                    \n",
    "                    \n",
    "                elif is_orig_tier:\n",
    "                    orig_tier_list = line.strip('\\n').split(' ')[8:]\n",
    "                    original_tier = extract_elements_from_line(original_tier, orig_tier_list, line)\n",
    "\n",
    "                        \n",
    "\n",
    "                elif is_segment_tier:\n",
    "                    segment_tier_list = line.strip('\\n').split(' ' * 2)[1:]\n",
    "                    segment_tier = extract_elements_from_line(segment_tier, segment_tier_list, line)\n",
    "                \n",
    "                elif is_realized_tier:\n",
    "                    realized_tier_list = line.split(' ' * 2)[1:]\n",
    "                    \n",
    "                    realized_tier = extract_elements_from_line(realized_tier, realized_tier_list, line)\n",
    "\n",
    "                        \n",
    "        for item in list(zip(original_tier, segment_tier, realized_tier)):\n",
    "            current_durations = WordDurations(word = item[0], segment = item[1], realization = item[2])\n",
    "            word_durations.append(current_durations)\n",
    "        \n",
    "                    \n",
    "#     for element in original_tier_words:\n",
    "#         print(element)\n",
    "    return word_durations\n",
    "\n",
    "# output = read_input()\n",
    "# for item in output:\n",
    "#     print(item)\n"
   ]
  },
  {
   "cell_type": "code",
   "execution_count": null,
   "id": "d015c2c3",
   "metadata": {},
   "outputs": [],
   "source": []
  }
 ],
 "metadata": {
  "kernelspec": {
   "display_name": "Python 3",
   "language": "python",
   "name": "python3"
  },
  "language_info": {
   "codemirror_mode": {
    "name": "ipython",
    "version": 3
   },
   "file_extension": ".py",
   "mimetype": "text/x-python",
   "name": "python",
   "nbconvert_exporter": "python",
   "pygments_lexer": "ipython3",
   "version": "3.9.13"
  }
 },
 "nbformat": 4,
 "nbformat_minor": 5
}
