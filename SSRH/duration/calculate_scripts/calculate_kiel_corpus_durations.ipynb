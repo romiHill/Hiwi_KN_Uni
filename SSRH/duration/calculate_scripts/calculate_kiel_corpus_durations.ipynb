{
 "cells": [
  {
   "cell_type": "markdown",
   "id": "33344882",
   "metadata": {},
   "source": [
    "# Libraries"
   ]
  },
  {
   "cell_type": "code",
   "execution_count": 36,
   "id": "d0fc2452",
   "metadata": {},
   "outputs": [],
   "source": [
    "import re, os, sys\n",
    "import pandas as pd\n",
    "\n",
    "from config import KIEL_CORPUS_PATH, OUTPUT_PATH\n",
    "from data_structures.Interval import Interval"
   ]
  },
  {
   "cell_type": "markdown",
   "id": "af675877",
   "metadata": {},
   "source": [
    "# Regex Compilation"
   ]
  },
  {
   "cell_type": "code",
   "execution_count": 37,
   "id": "6edeaa4c",
   "metadata": {},
   "outputs": [],
   "source": [
    "\n",
    "IGNORE_IN_TRANSCRIPTION_REGEX = re.compile(r\"(<\\w*>|<%>|<:.*>|^&.*|[.,;?!%]|\\w*:)\")\n",
    "\n",
    "TIER_TYPE_REGEX = re.compile(r\"(kend|oend|hend)\")"
   ]
  },
  {
   "cell_type": "markdown",
   "id": "477fa3eb",
   "metadata": {},
   "source": [
    "# Classes"
   ]
  },
  {
   "cell_type": "code",
   "execution_count": 38,
   "id": "2e57e22f",
   "metadata": {},
   "outputs": [],
   "source": [
    "class WordDurations:\n",
    "    \"\"\"\n",
    "    Class to store phoneme info based on word, syllable position, etc\n",
    "    \"\"\"\n",
    "    def __init__(self, word, segment = '', realized_durations = '', basic = ''):\n",
    "        self.word = str(word)\n",
    "        self.segment = str(segment)\n",
    "        self.realized_durations = list(realized_durations)\n",
    "        self.basic = str(basic)\n",
    "    def __repr__(self):\n",
    "        return f\"Word: {self.word}\\tsegments: {self.segment}\\trealized_durations:\\n\""
   ]
  },
  {
   "cell_type": "code",
   "execution_count": 39,
   "id": "c3614c47",
   "metadata": {},
   "outputs": [],
   "source": [
    "class RealizedDuration:\n",
    "    \"\"\"\n",
    "    Class to store realization segment and their duration\n",
    "    \"\"\"\n",
    "    def __init__(self, segment = '', duration = 0):\n",
    "        self.segment = segment\n",
    "        self.duration = duration\n",
    "    def __str__(self):\n",
    "        return f\"\\t\\t\\tsegment: {self.segment}\\tduration: {self.duration}\\n\""
   ]
  },
  {
   "cell_type": "markdown",
   "id": "4bb930dd",
   "metadata": {},
   "source": [
    "# Helper Functions"
   ]
  },
  {
   "cell_type": "code",
   "execution_count": 40,
   "id": "be80b429",
   "metadata": {},
   "outputs": [],
   "source": [
    "def extract_elements_from_line(master_list: list, line_list: list, line: str):\n",
    "    \"\"\"\n",
    "    Extract elements from line into the master list\n",
    "    \"\"\"\n",
    "    for i in range(len(line_list)):\n",
    "        if not re.fullmatch(IGNORE_IN_TRANSCRIPTION_REGEX, line_list[i]):\n",
    "            master_list.append(line_list[i])\n",
    "    return master_list"
   ]
  },
  {
   "cell_type": "code",
   "execution_count": 41,
   "id": "bfa98b5c",
   "metadata": {},
   "outputs": [],
   "source": [
    "def change_flags(input_dict: dict, line: str):\n",
    "    \"\"\"\n",
    "    change tier type dictionary, to keep track of current tier\n",
    "    \"\"\"\n",
    "    # set all values in dictionary to False\n",
    "    input_dict = dict.fromkeys(input_dict, False)\n",
    "    if line.startswith('oend'):\n",
    "        input_dict['segment_tier'] = True\n",
    "    \n",
    "    elif line.startswith('kend'):\n",
    "        input_dict['realized_tier'] = True\n",
    "\n",
    "    elif line.startswith('hend'):\n",
    "        input_dict['duration_tier'] = True\n",
    "        is_duration_tier = True\n",
    "    \n",
    "    return input_dict"
   ]
  },
  {
   "cell_type": "code",
   "execution_count": 42,
   "id": "349c49a7",
   "metadata": {},
   "outputs": [],
   "source": [
    "def extract_durations_from_line(duration_tier, line, prev_start_time):\n",
    "    \"\"\"\n",
    "    extract segment and its duration from line\n",
    "    return duration tier (list of RealizedDurations objects) and the start time of the segment (float)\n",
    "    \"\"\"\n",
    "    line_list = line.split()\n",
    "    prev_duration = float(line_list[2]) - prev_start_time\n",
    "    item = RealizedDuration()\n",
    "    item = RealizedDuration(line_list[1], 0)\n",
    "    if len(duration_tier) != 0:\n",
    "        duration_tier[-1].duration = prev_duration\n",
    "    duration_tier.append(item)\n",
    "    prev_start_time = float(line_list[2])\n",
    "\n",
    "    return duration_tier, prev_start_time"
   ]
  },
  {
   "cell_type": "code",
   "execution_count": 43,
   "id": "1e672fa1",
   "metadata": {},
   "outputs": [],
   "source": [
    "def link_realizations_and_durations(realized_tier, duration_tier):\n",
    "    \"\"\"\n",
    "    link realization tier with duration information\n",
    "    Input: list of strings, list of RealizedDurations objects\n",
    "    Output: list of lists (per word) of RealizedDuration objects\n",
    "    \"\"\"\n",
    "    output_list = []\n",
    "    for i, element in enumerate(realized_tier):\n",
    "        if ' ' in element:\n",
    "            inner_list = []\n",
    "            for item in element.split():\n",
    "                for i, duration_info in enumerate(duration_tier):\n",
    "                    if item in duration_info.segment:\n",
    "                        inner_list.append(duration_info)\n",
    "                        duration_tier = duration_tier[i:]\n",
    "                        break\n",
    "            output_list.append(inner_list)\n",
    "        else:\n",
    "            print(f'{file_name} has an uneven number of elements in realized tier and duration tier, please fix')\n",
    "            sys.exit(1)\n",
    "    return output_list, duration_tier"
   ]
  },
  {
   "cell_type": "code",
   "execution_count": 44,
   "id": "3624b8de",
   "metadata": {},
   "outputs": [],
   "source": [
    "def extract_list_into_data(row, data):\n",
    "    word = row.word\n",
    "    for realized_segment in row.realized_durations:\n",
    "        segment = realized_segment.segment\n",
    "        duration = realized_segment.duration\n",
    "        # --- start of word --- #\n",
    "        if segment.startswith(\"##\"):\n",
    "            start_of_word = True\n",
    "        else:\n",
    "            start_of_word = False\n",
    "        # --------------------- # \n",
    "        \n",
    "        # --- stress in word --- #\n",
    "        if \"'\" in segment:\n",
    "            stress = True\n",
    "        else:\n",
    "            stress = False\n",
    "        # --------------------- # \n",
    "        # segment = \n",
    "        data.append([word, segment, duration, stress, start_of_word])\n",
    "    return data"
   ]
  },
  {
   "cell_type": "markdown",
   "id": "b67cc7c6",
   "metadata": {},
   "source": [
    "# Read Input"
   ]
  },
  {
   "cell_type": "code",
   "execution_count": 45,
   "id": "e64bdcdf",
   "metadata": {},
   "outputs": [],
   "source": [
    "def read_input(in_folder_name = KIEL_CORPUS_PATH):\n",
    "    \"\"\"\n",
    "    read in all .s1h files from folder as list of WordDuration objects\n",
    "    \"\"\"\n",
    "    intervals = []\n",
    "    for file_name in os.listdir(in_folder_name):\n",
    "        if not file_name.endswith('.s1h'):\n",
    "            continue\n",
    "\n",
    "        with open(os.path.join(in_folder_name, file_name), 'r', encoding='utf8') as in_file:\n",
    "            tier_type = {'orig_tier': False, 'segment_tier': False, 'realized_tier': False, 'duration_tier': False}\n",
    "            \n",
    "            original_tier = []\n",
    "            segment_tier = []\n",
    "            realized_tier = []\n",
    "            duration_tier = []\n",
    "\n",
    "            prev_start_time = 0\n",
    "            \n",
    "            word_durations = []\n",
    "            \n",
    "            for i, line in enumerate(in_file):\n",
    "                if i == 1:\n",
    "                    tier_type['orig_tier'] = True\n",
    "                    orig_tier_list = line.strip('\\n').rstrip(' ').split(' ')[2:]\n",
    "                    original_tier = extract_elements_from_line(original_tier, orig_tier_list, line)\n",
    "\n",
    "                elif re.search(TIER_TYPE_REGEX, line):\n",
    "                    tier_type = change_flags(tier_type, line)\n",
    "\n",
    "                elif tier_type['orig_tier']:\n",
    "                    orig_tier_list = line.strip('\\n').rstrip(' ').split(' ')[8:]\n",
    "                    original_tier = extract_elements_from_line(original_tier, orig_tier_list, line)\n",
    "\n",
    "                elif tier_type['segment_tier']:\n",
    "                    segment_tier_list = line.strip('\\n').split(' ' * 2)[1:]\n",
    "                    segment_tier = extract_elements_from_line(segment_tier, segment_tier_list, line)\n",
    "                \n",
    "                elif tier_type['realized_tier']:\n",
    "                    realized_tier_list = line.strip('\\n').split(' ' * 2)[1:]\n",
    "                    realized_tier = extract_elements_from_line(realized_tier, realized_tier_list, line)\n",
    "\n",
    "                elif tier_type['duration_tier']:\n",
    "                    duration_tier, start_time = extract_durations_from_line(duration_tier, line, prev_start_time)\n",
    "                    prev_start_time = start_time\n",
    "        # link realized segments with their duration (so duration is associated with segment, and also the word position within the sentence)\n",
    "        realizations_and_durations_tier, duration_tier = link_realizations_and_durations(realized_tier, duration_tier)\n",
    "\n",
    "        # create list of WordDurations, which contains info on word, segment, and durations of each segment\n",
    "        for item in list(zip(original_tier, segment_tier, realizations_and_durations_tier)):\n",
    "            current_durations = WordDurations(word = item[0], segment = item[1], realized_durations = item[2])\n",
    "            word_durations.append(current_durations)\n",
    "\n",
    "    return word_durations"
   ]
  },
  {
   "cell_type": "code",
   "execution_count": 46,
   "id": "f4f2346c",
   "metadata": {},
   "outputs": [],
   "source": [
    "def save_output(output_dir, output_filename, df):\n",
    "    \"\"\"\n",
    "    Save output\n",
    "    \"\"\"\n",
    "    if not os.path.exists(output_dir):\n",
    "        print(output_dir)\n",
    "        os.makedirs(output_dir)\n",
    "    outputFilePath = f'{output_dir}/{output_filename}.csv'\n",
    "    df.to_csv(outputFilePath)"
   ]
  },
  {
   "cell_type": "markdown",
   "id": "d1caed15",
   "metadata": {},
   "source": [
    "# Dataframe Creation"
   ]
  },
  {
   "cell_type": "code",
   "execution_count": 47,
   "id": "bd4da0cb",
   "metadata": {},
   "outputs": [],
   "source": [
    "def all_durations_to_df(input_list):\n",
    "    \"\"\"\n",
    "    Calculate averages of segments\n",
    "    Input: list of WordDuration objects\n",
    "    Output: Dataframe\n",
    "    \"\"\"\n",
    "    data = []\n",
    "    for i, row in enumerate(input_list):\n",
    "        data = extract_list_into_data(row, data)\n",
    "    \n",
    "\n",
    "    df = pd.DataFrame(data, columns = ['word', 'segment', 'duration', 'stress', 'start of word'])\n",
    "\n",
    "    save_output(OUTPUT_PATH, 'all_kiel_durations', df)\n",
    "\n",
    "    return df"
   ]
  },
  {
   "cell_type": "code",
   "execution_count": 48,
   "id": "9066e3ce",
   "metadata": {},
   "outputs": [],
   "source": [
    "def calculate_averages(df):\n",
    "    df_averages = df.groupby(['segment', 'stress', 'start of word'])['duration'].mean()\n",
    "    save_output(OUTPUT_PATH, 'kiel_average_durations', df_averages)\n",
    "    return df_averages"
   ]
  },
  {
   "cell_type": "markdown",
   "id": "8f7a3a67",
   "metadata": {},
   "source": [
    "# Main Function"
   ]
  },
  {
   "cell_type": "code",
   "execution_count": 49,
   "id": "90536901",
   "metadata": {},
   "outputs": [],
   "source": [
    "df = read_input()\n",
    "\n",
    "# --- extract all durations\n",
    "df = all_durations_to_df(df)\n",
    "\n",
    "# --- calculate averages\n",
    "df_averages = calculate_averages(df)"
   ]
  },
  {
   "cell_type": "code",
   "execution_count": 50,
   "id": "155e03b7",
   "metadata": {},
   "outputs": [
    {
     "data": {
      "text/plain": [
       "segment  stress  start of word\n",
       "##%Q     False   True             0.033063\n",
       "##%d     False   True             0.025359\n",
       "##%d-n   False   True             0.021031\n",
       "##:k     False   True             0.000000\n",
       "##Q      False   True             0.072969\n",
       "                                    ...   \n",
       "$t-      False   False            0.000000\n",
       "$t-+     False   False            0.000000\n",
       "$x       False   False            0.043063\n",
       "$x-+     False   False            0.000000\n",
       "$z       False   False            0.132094\n",
       "Name: duration, Length: 78, dtype: float64"
      ]
     },
     "execution_count": 50,
     "metadata": {},
     "output_type": "execute_result"
    }
   ],
   "source": [
    "df_averages"
   ]
  }
 ],
 "metadata": {
  "kernelspec": {
   "display_name": "Python 3",
   "language": "python",
   "name": "python3"
  },
  "language_info": {
   "codemirror_mode": {
    "name": "ipython",
    "version": 3
   },
   "file_extension": ".py",
   "mimetype": "text/x-python",
   "name": "python",
   "nbconvert_exporter": "python",
   "pygments_lexer": "ipython3",
   "version": "3.9.13"
  }
 },
 "nbformat": 4,
 "nbformat_minor": 5
}
