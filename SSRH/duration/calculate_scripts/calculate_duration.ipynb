{
 "cells": [
  {
   "cell_type": "markdown",
   "id": "5d1082f6",
   "metadata": {},
   "source": [
    "# Calculate Durations of Segments"
   ]
  },
  {
   "cell_type": "markdown",
   "id": "993c61d9",
   "metadata": {},
   "source": [
    "## Import Libraries"
   ]
  },
  {
   "cell_type": "code",
   "execution_count": 52,
   "id": "dd403791",
   "metadata": {},
   "outputs": [],
   "source": [
    "import re, os, sys\n",
    "import pandas as pd\n",
    "\n",
    "from config import INPUT_PATH, PHONE_TIER, OUTPUT_PATH"
   ]
  },
  {
   "cell_type": "markdown",
   "id": "2614c70d",
   "metadata": {},
   "source": [
    "## Classes"
   ]
  },
  {
   "cell_type": "code",
   "execution_count": 3,
   "id": "ae2c32ff",
   "metadata": {},
   "outputs": [],
   "source": [
    "# to do: may need to add info about previous and following segment, \n",
    "# ------ location of segment within word, syllable structure, etc\n",
    "\n",
    "class Interval:\n",
    "    \"\"\"\n",
    "    Class to store start point, end point, duration, and label of an interval\n",
    "    \"\"\"\n",
    "    def __init__(self, start_point = 0.0, end_point = 0.0, label = \"\"):\n",
    "        self.start_point = float(start_point)\n",
    "        self.end_point = float(end_point)\n",
    "        self.duration = -1\n",
    "        self.label = str(label)\n",
    "    def calculate_duration(self):\n",
    "        return (self.end_point - self.start_point)\n",
    "    def __str__(self):\n",
    "        return f'start_point: {self.start_point}\\nend_point: {self.end_point}\\nlabel: {self.label}\\nduration: {self.duration}'\n",
    "\n"
   ]
  },
  {
   "cell_type": "markdown",
   "id": "87a2e60b",
   "metadata": {},
   "source": [
    "## Helper Functions"
   ]
  },
  {
   "cell_type": "code",
   "execution_count": 4,
   "id": "2bf41067",
   "metadata": {},
   "outputs": [],
   "source": [
    "def extract_info(interval, line):\n",
    "    \"\"\"\n",
    "    Extract relevant information from line and add it to Interval object\n",
    "    \"\"\"\n",
    "    if 'xmin = ' in line:\n",
    "        start_point = re.sub(r'.*xmin = (\\d*\\.*\\d*)', '\\\\1', line)\n",
    "        interval.start_point = float(start_point)\n",
    "    elif 'xmax = ' in line:\n",
    "        end_point = re.sub(r'.*xmax = (\\d*\\.*\\d*)', '\\\\1', line)\n",
    "        interval.end_point = float(end_point)\n",
    "    elif 'text = ' in line:\n",
    "        label = re.sub(r'.*text = \"(.*)\"', '\\\\1', line)\n",
    "        label = label.strip()\n",
    "        if label:\n",
    "            interval.label = label\n",
    "    return interval\n"
   ]
  },
  {
   "cell_type": "code",
   "execution_count": 5,
   "id": "d9f818d1",
   "metadata": {},
   "outputs": [],
   "source": [
    "def read_input(in_folder_name = INPUT_PATH):\n",
    "    \"\"\"\n",
    "    read in all textgrid files from folder as list of Interval objects\n",
    "    \"\"\"\n",
    "    intervals = []\n",
    "    for file_name in os.listdir(in_folder_name):\n",
    "        if not file_name.endswith('.TextGrid'):\n",
    "            continue\n",
    "\n",
    "        with open(os.path.join(in_folder_name, file_name), 'r', encoding='utf8') as in_file:\n",
    "            is_phone_tier = False\n",
    "            current_interval = Interval()\n",
    "            for line in in_file:\n",
    "                # entered tier with phone segments\n",
    "                if PHONE_TIER in line:\n",
    "                    is_phone_tier = True\n",
    "                # no longer in phone tier\n",
    "                elif 'name = ' in line:\n",
    "                    is_phone_tier = False\n",
    "                \n",
    "                # extract info if in phone tier\n",
    "                if is_phone_tier:\n",
    "                    current_interval = extract_info(current_interval, line)\n",
    "                # label has been filled, this interval is complete\n",
    "                if current_interval.label:\n",
    "                    # calculate duration and store it in the object\n",
    "                    current_interval.duration = current_interval.calculate_duration()\n",
    "                    # add to list of interval objects and clear current interval\n",
    "                    intervals.append(current_interval)\n",
    "                    current_interval = Interval()\n",
    "    return intervals\n"
   ]
  },
  {
   "cell_type": "markdown",
   "id": "5538a571",
   "metadata": {},
   "source": [
    "### Main Function"
   ]
  },
  {
   "cell_type": "code",
   "execution_count": 6,
   "id": "b7a5fb76",
   "metadata": {},
   "outputs": [],
   "source": [
    "\n",
    "# read in list of interval objects\n",
    "segment_intervals = read_input()\n",
    "\n",
    "# convert list of interval objects to dataframe\n",
    "master_df = pd.DataFrame([interval.__dict__ for interval in segment_intervals])\n",
    "\n",
    "# create dictionary of dataframes based on values in 'label' column\n",
    "all_segments_df = {elem : pd.DataFrame() for elem in master_df.label.unique()}\n",
    "\n",
    "# fill values based on key\n",
    "for key in all_segments_df.keys():\n",
    "    all_segments_df[key] = master_df[:][master_df.label == key]\n",
    "\n"
   ]
  },
  {
   "cell_type": "markdown",
   "id": "b8e23c7d",
   "metadata": {},
   "source": [
    "### Calculate Stats"
   ]
  },
  {
   "cell_type": "code",
   "execution_count": 7,
   "id": "7a095e6c",
   "metadata": {},
   "outputs": [],
   "source": [
    "def df_greater_than_mean(df, column_name = 'duration'):\n",
    "    \"\"\"\n",
    "    return dataframe greater than the mean of the column\n",
    "    \"\"\"\n",
    "    return df[df[column_name] > df[column_name].mean()]"
   ]
  },
  {
   "cell_type": "code",
   "execution_count": 8,
   "id": "6d1f120c",
   "metadata": {},
   "outputs": [
    {
     "data": {
      "text/plain": [
       "array(['<p:>', 'd', 'i:', '?', 'o:', 'm', 'a', 'h', 't', '@', 'b', 'S',\n",
       "       'l', 'O', 's', 'z', 'C', 'p', 'f', 'E', 'aU', '6', 'g', 'u:', 'x',\n",
       "       'v', 'r', 'aI', 'I', 'n', 'a:', 'e:', 'U', 'N', 'ts', 'OY', 'k',\n",
       "       'o', 'u', 'j', 'e', 'dZ'], dtype=object)"
      ]
     },
     "execution_count": 8,
     "metadata": {},
     "output_type": "execute_result"
    }
   ],
   "source": [
    "# example output - access dataframe by label as key\n",
    "all_segments_df['r']\n",
    "\n",
    "master_df.label.unique()"
   ]
  },
  {
   "cell_type": "code",
   "execution_count": 9,
   "id": "f7a98b71",
   "metadata": {},
   "outputs": [
    {
     "data": {
      "text/html": [
       "<div>\n",
       "<style scoped>\n",
       "    .dataframe tbody tr th:only-of-type {\n",
       "        vertical-align: middle;\n",
       "    }\n",
       "\n",
       "    .dataframe tbody tr th {\n",
       "        vertical-align: top;\n",
       "    }\n",
       "\n",
       "    .dataframe thead th {\n",
       "        text-align: right;\n",
       "    }\n",
       "</style>\n",
       "<table border=\"1\" class=\"dataframe\">\n",
       "  <thead>\n",
       "    <tr style=\"text-align: right;\">\n",
       "      <th></th>\n",
       "      <th></th>\n",
       "      <th>start_point</th>\n",
       "      <th>end_point</th>\n",
       "      <th>duration</th>\n",
       "      <th>label</th>\n",
       "    </tr>\n",
       "  </thead>\n",
       "  <tbody>\n",
       "    <tr>\n",
       "      <th rowspan=\"5\" valign=\"top\">d</th>\n",
       "      <th>17</th>\n",
       "      <td>1.77712</td>\n",
       "      <td>1.82712</td>\n",
       "      <td>0.05</td>\n",
       "      <td>d</td>\n",
       "    </tr>\n",
       "    <tr>\n",
       "      <th>53</th>\n",
       "      <td>3.83712</td>\n",
       "      <td>3.92712</td>\n",
       "      <td>0.09</td>\n",
       "      <td>d</td>\n",
       "    </tr>\n",
       "    <tr>\n",
       "      <th>77</th>\n",
       "      <td>0.71712</td>\n",
       "      <td>0.77712</td>\n",
       "      <td>0.06</td>\n",
       "      <td>d</td>\n",
       "    </tr>\n",
       "    <tr>\n",
       "      <th>171</th>\n",
       "      <td>2.04712</td>\n",
       "      <td>2.10712</td>\n",
       "      <td>0.06</td>\n",
       "      <td>d</td>\n",
       "    </tr>\n",
       "    <tr>\n",
       "      <th>225</th>\n",
       "      <td>0.23712</td>\n",
       "      <td>0.34712</td>\n",
       "      <td>0.11</td>\n",
       "      <td>d</td>\n",
       "    </tr>\n",
       "    <tr>\n",
       "      <th>...</th>\n",
       "      <th>...</th>\n",
       "      <td>...</td>\n",
       "      <td>...</td>\n",
       "      <td>...</td>\n",
       "      <td>...</td>\n",
       "    </tr>\n",
       "    <tr>\n",
       "      <th rowspan=\"5\" valign=\"top\">k</th>\n",
       "      <th>17504</th>\n",
       "      <td>1.70712</td>\n",
       "      <td>1.81712</td>\n",
       "      <td>0.11</td>\n",
       "      <td>k</td>\n",
       "    </tr>\n",
       "    <tr>\n",
       "      <th>17527</th>\n",
       "      <td>2.86712</td>\n",
       "      <td>2.95712</td>\n",
       "      <td>0.09</td>\n",
       "      <td>k</td>\n",
       "    </tr>\n",
       "    <tr>\n",
       "      <th>17554</th>\n",
       "      <td>1.67712</td>\n",
       "      <td>1.83712</td>\n",
       "      <td>0.16</td>\n",
       "      <td>k</td>\n",
       "    </tr>\n",
       "    <tr>\n",
       "      <th>18261</th>\n",
       "      <td>4.42712</td>\n",
       "      <td>4.48712</td>\n",
       "      <td>0.06</td>\n",
       "      <td>k</td>\n",
       "    </tr>\n",
       "    <tr>\n",
       "      <th>18288</th>\n",
       "      <td>1.68712</td>\n",
       "      <td>1.74712</td>\n",
       "      <td>0.06</td>\n",
       "      <td>k</td>\n",
       "    </tr>\n",
       "  </tbody>\n",
       "</table>\n",
       "<p>1139 rows × 4 columns</p>\n",
       "</div>"
      ],
      "text/plain": [
       "         start_point  end_point  duration label\n",
       "d 17         1.77712    1.82712      0.05     d\n",
       "  53         3.83712    3.92712      0.09     d\n",
       "  77         0.71712    0.77712      0.06     d\n",
       "  171        2.04712    2.10712      0.06     d\n",
       "  225        0.23712    0.34712      0.11     d\n",
       "...              ...        ...       ...   ...\n",
       "k 17504      1.70712    1.81712      0.11     k\n",
       "  17527      2.86712    2.95712      0.09     k\n",
       "  17554      1.67712    1.83712      0.16     k\n",
       "  18261      4.42712    4.48712      0.06     k\n",
       "  18288      1.68712    1.74712      0.06     k\n",
       "\n",
       "[1139 rows x 4 columns]"
      ]
     },
     "execution_count": 9,
     "metadata": {},
     "output_type": "execute_result"
    }
   ],
   "source": [
    "# plosives\n",
    "\n",
    "# extract plosives as dictionary of dataframes\n",
    "plosive_frames_dict = {k: all_segments_df.get(k, None) for k in ('d', 't', 'b', 'p', 'g', 'k')}\n",
    "\n",
    "# concatenate the dataframes\n",
    "plosive_df = pd.concat(plosive_frames_dict)\n",
    "\n",
    "# extract rows that have duration larger than the mean\n",
    "# todo: this calculates mean across all plosives, will need to separate these by each plosive I think\n",
    "df_greater_than_mean(plosive_df)\n",
    "\n"
   ]
  },
  {
   "cell_type": "code",
   "execution_count": 49,
   "id": "bb5ba3e3",
   "metadata": {},
   "outputs": [],
   "source": [
    "def save_output(output_dir, output_filename, df):\n",
    "    \"\"\"\n",
    "    Save output\n",
    "    \"\"\"\n",
    "    if not os.path.exists(output_dir):\n",
    "        print(output_dir)\n",
    "        os.makedirs(output_dir)\n",
    "    outputFilePath = f'{output_dir}/{output_filename}.csv'\n",
    "    df.to_csv(outputFilePath)"
   ]
  },
  {
   "cell_type": "code",
   "execution_count": 53,
   "id": "e67ad470",
   "metadata": {},
   "outputs": [
    {
     "ename": "error",
     "evalue": "nothing to repeat at position 0",
     "output_type": "error",
     "traceback": [
      "\u001b[0;31m---------------------------------------------------------------------------\u001b[0m",
      "\u001b[0;31merror\u001b[0m                                     Traceback (most recent call last)",
      "\u001b[0;32m<ipython-input-53-d76f960ec39f>\u001b[0m in \u001b[0;36m<module>\u001b[0;34m\u001b[0m\n\u001b[1;32m      4\u001b[0m     \u001b[0;32mif\u001b[0m \u001b[0mkey\u001b[0m \u001b[0;34m==\u001b[0m \u001b[0;34m\"<p:>\"\u001b[0m\u001b[0;34m:\u001b[0m\u001b[0;34m\u001b[0m\u001b[0;34m\u001b[0m\u001b[0m\n\u001b[1;32m      5\u001b[0m         \u001b[0;32mcontinue\u001b[0m\u001b[0;34m\u001b[0m\u001b[0;34m\u001b[0m\u001b[0m\n\u001b[0;32m----> 6\u001b[0;31m     \u001b[0maverage_segment_value\u001b[0m \u001b[0;34m=\u001b[0m \u001b[0maverage_df\u001b[0m\u001b[0;34m[\u001b[0m\u001b[0maverage_df\u001b[0m\u001b[0;34m[\u001b[0m\u001b[0;34m\"segment\"\u001b[0m\u001b[0;34m]\u001b[0m\u001b[0;34m.\u001b[0m\u001b[0mstr\u001b[0m\u001b[0;34m.\u001b[0m\u001b[0mcontains\u001b[0m\u001b[0;34m(\u001b[0m\u001b[0mkey\u001b[0m\u001b[0;34m)\u001b[0m\u001b[0;34m]\u001b[0m\u001b[0;34m.\u001b[0m\u001b[0miloc\u001b[0m\u001b[0;34m[\u001b[0m\u001b[0;36m0\u001b[0m\u001b[0;34m]\u001b[0m\u001b[0;34m[\u001b[0m\u001b[0;34m'duration'\u001b[0m\u001b[0;34m]\u001b[0m\u001b[0;34m\u001b[0m\u001b[0;34m\u001b[0m\u001b[0m\n\u001b[0m\u001b[1;32m      7\u001b[0m     \u001b[0mfilepath\u001b[0m \u001b[0;34m=\u001b[0m \u001b[0;34mf'{key}_greater_than_average'\u001b[0m\u001b[0;34m\u001b[0m\u001b[0;34m\u001b[0m\u001b[0m\n\u001b[1;32m      8\u001b[0m     \u001b[0mgreater_than_average_df\u001b[0m \u001b[0;34m=\u001b[0m \u001b[0mall_segments_df\u001b[0m\u001b[0;34m[\u001b[0m\u001b[0mkey\u001b[0m\u001b[0;34m]\u001b[0m\u001b[0;34m[\u001b[0m\u001b[0mall_segments_df\u001b[0m\u001b[0;34m[\u001b[0m\u001b[0mkey\u001b[0m\u001b[0;34m]\u001b[0m\u001b[0;34m[\u001b[0m\u001b[0;34m'duration'\u001b[0m\u001b[0;34m]\u001b[0m \u001b[0;34m>\u001b[0m \u001b[0maverage_segment_value\u001b[0m\u001b[0;34m]\u001b[0m\u001b[0;34m\u001b[0m\u001b[0;34m\u001b[0m\u001b[0m\n",
      "\u001b[0;32m/usr/local/lib/python3.9/site-packages/pandas/core/strings/accessor.py\u001b[0m in \u001b[0;36mwrapper\u001b[0;34m(self, *args, **kwargs)\u001b[0m\n\u001b[1;32m    123\u001b[0m                 )\n\u001b[1;32m    124\u001b[0m                 \u001b[0;32mraise\u001b[0m \u001b[0mTypeError\u001b[0m\u001b[0;34m(\u001b[0m\u001b[0mmsg\u001b[0m\u001b[0;34m)\u001b[0m\u001b[0;34m\u001b[0m\u001b[0;34m\u001b[0m\u001b[0m\n\u001b[0;32m--> 125\u001b[0;31m             \u001b[0;32mreturn\u001b[0m \u001b[0mfunc\u001b[0m\u001b[0;34m(\u001b[0m\u001b[0mself\u001b[0m\u001b[0;34m,\u001b[0m \u001b[0;34m*\u001b[0m\u001b[0margs\u001b[0m\u001b[0;34m,\u001b[0m \u001b[0;34m**\u001b[0m\u001b[0mkwargs\u001b[0m\u001b[0;34m)\u001b[0m\u001b[0;34m\u001b[0m\u001b[0;34m\u001b[0m\u001b[0m\n\u001b[0m\u001b[1;32m    126\u001b[0m \u001b[0;34m\u001b[0m\u001b[0m\n\u001b[1;32m    127\u001b[0m         \u001b[0mwrapper\u001b[0m\u001b[0;34m.\u001b[0m\u001b[0m__name__\u001b[0m \u001b[0;34m=\u001b[0m \u001b[0mfunc_name\u001b[0m\u001b[0;34m\u001b[0m\u001b[0;34m\u001b[0m\u001b[0m\n",
      "\u001b[0;32m/usr/local/lib/python3.9/site-packages/pandas/core/strings/accessor.py\u001b[0m in \u001b[0;36mcontains\u001b[0;34m(self, pat, case, flags, na, regex)\u001b[0m\n\u001b[1;32m   1212\u001b[0m         \u001b[0mdtype\u001b[0m\u001b[0;34m:\u001b[0m \u001b[0mbool\u001b[0m\u001b[0;34m\u001b[0m\u001b[0;34m\u001b[0m\u001b[0m\n\u001b[1;32m   1213\u001b[0m         \"\"\"\n\u001b[0;32m-> 1214\u001b[0;31m         \u001b[0;32mif\u001b[0m \u001b[0mregex\u001b[0m \u001b[0;32mand\u001b[0m \u001b[0mre\u001b[0m\u001b[0;34m.\u001b[0m\u001b[0mcompile\u001b[0m\u001b[0;34m(\u001b[0m\u001b[0mpat\u001b[0m\u001b[0;34m)\u001b[0m\u001b[0;34m.\u001b[0m\u001b[0mgroups\u001b[0m\u001b[0;34m:\u001b[0m\u001b[0;34m\u001b[0m\u001b[0;34m\u001b[0m\u001b[0m\n\u001b[0m\u001b[1;32m   1215\u001b[0m             warnings.warn(\n\u001b[1;32m   1216\u001b[0m                 \u001b[0;34m\"This pattern is interpreted as a regular expression, and has \"\u001b[0m\u001b[0;34m\u001b[0m\u001b[0;34m\u001b[0m\u001b[0m\n",
      "\u001b[0;32m/usr/local/Cellar/python@3.9/3.9.13_1/Frameworks/Python.framework/Versions/3.9/lib/python3.9/re.py\u001b[0m in \u001b[0;36mcompile\u001b[0;34m(pattern, flags)\u001b[0m\n\u001b[1;32m    250\u001b[0m \u001b[0;32mdef\u001b[0m \u001b[0mcompile\u001b[0m\u001b[0;34m(\u001b[0m\u001b[0mpattern\u001b[0m\u001b[0;34m,\u001b[0m \u001b[0mflags\u001b[0m\u001b[0;34m=\u001b[0m\u001b[0;36m0\u001b[0m\u001b[0;34m)\u001b[0m\u001b[0;34m:\u001b[0m\u001b[0;34m\u001b[0m\u001b[0;34m\u001b[0m\u001b[0m\n\u001b[1;32m    251\u001b[0m     \u001b[0;34m\"Compile a regular expression pattern, returning a Pattern object.\"\u001b[0m\u001b[0;34m\u001b[0m\u001b[0;34m\u001b[0m\u001b[0m\n\u001b[0;32m--> 252\u001b[0;31m     \u001b[0;32mreturn\u001b[0m \u001b[0m_compile\u001b[0m\u001b[0;34m(\u001b[0m\u001b[0mpattern\u001b[0m\u001b[0;34m,\u001b[0m \u001b[0mflags\u001b[0m\u001b[0;34m)\u001b[0m\u001b[0;34m\u001b[0m\u001b[0;34m\u001b[0m\u001b[0m\n\u001b[0m\u001b[1;32m    253\u001b[0m \u001b[0;34m\u001b[0m\u001b[0m\n\u001b[1;32m    254\u001b[0m \u001b[0;32mdef\u001b[0m \u001b[0mpurge\u001b[0m\u001b[0;34m(\u001b[0m\u001b[0;34m)\u001b[0m\u001b[0;34m:\u001b[0m\u001b[0;34m\u001b[0m\u001b[0;34m\u001b[0m\u001b[0m\n",
      "\u001b[0;32m/usr/local/Cellar/python@3.9/3.9.13_1/Frameworks/Python.framework/Versions/3.9/lib/python3.9/re.py\u001b[0m in \u001b[0;36m_compile\u001b[0;34m(pattern, flags)\u001b[0m\n\u001b[1;32m    302\u001b[0m     \u001b[0;32mif\u001b[0m \u001b[0;32mnot\u001b[0m \u001b[0msre_compile\u001b[0m\u001b[0;34m.\u001b[0m\u001b[0misstring\u001b[0m\u001b[0;34m(\u001b[0m\u001b[0mpattern\u001b[0m\u001b[0;34m)\u001b[0m\u001b[0;34m:\u001b[0m\u001b[0;34m\u001b[0m\u001b[0;34m\u001b[0m\u001b[0m\n\u001b[1;32m    303\u001b[0m         \u001b[0;32mraise\u001b[0m \u001b[0mTypeError\u001b[0m\u001b[0;34m(\u001b[0m\u001b[0;34m\"first argument must be string or compiled pattern\"\u001b[0m\u001b[0;34m)\u001b[0m\u001b[0;34m\u001b[0m\u001b[0;34m\u001b[0m\u001b[0m\n\u001b[0;32m--> 304\u001b[0;31m     \u001b[0mp\u001b[0m \u001b[0;34m=\u001b[0m \u001b[0msre_compile\u001b[0m\u001b[0;34m.\u001b[0m\u001b[0mcompile\u001b[0m\u001b[0;34m(\u001b[0m\u001b[0mpattern\u001b[0m\u001b[0;34m,\u001b[0m \u001b[0mflags\u001b[0m\u001b[0;34m)\u001b[0m\u001b[0;34m\u001b[0m\u001b[0;34m\u001b[0m\u001b[0m\n\u001b[0m\u001b[1;32m    305\u001b[0m     \u001b[0;32mif\u001b[0m \u001b[0;32mnot\u001b[0m \u001b[0;34m(\u001b[0m\u001b[0mflags\u001b[0m \u001b[0;34m&\u001b[0m \u001b[0mDEBUG\u001b[0m\u001b[0;34m)\u001b[0m\u001b[0;34m:\u001b[0m\u001b[0;34m\u001b[0m\u001b[0;34m\u001b[0m\u001b[0m\n\u001b[1;32m    306\u001b[0m         \u001b[0;32mif\u001b[0m \u001b[0mlen\u001b[0m\u001b[0;34m(\u001b[0m\u001b[0m_cache\u001b[0m\u001b[0;34m)\u001b[0m \u001b[0;34m>=\u001b[0m \u001b[0m_MAXCACHE\u001b[0m\u001b[0;34m:\u001b[0m\u001b[0;34m\u001b[0m\u001b[0;34m\u001b[0m\u001b[0m\n",
      "\u001b[0;32m/usr/local/Cellar/python@3.9/3.9.13_1/Frameworks/Python.framework/Versions/3.9/lib/python3.9/sre_compile.py\u001b[0m in \u001b[0;36mcompile\u001b[0;34m(p, flags)\u001b[0m\n\u001b[1;32m    786\u001b[0m     \u001b[0;32mif\u001b[0m \u001b[0misstring\u001b[0m\u001b[0;34m(\u001b[0m\u001b[0mp\u001b[0m\u001b[0;34m)\u001b[0m\u001b[0;34m:\u001b[0m\u001b[0;34m\u001b[0m\u001b[0;34m\u001b[0m\u001b[0m\n\u001b[1;32m    787\u001b[0m         \u001b[0mpattern\u001b[0m \u001b[0;34m=\u001b[0m \u001b[0mp\u001b[0m\u001b[0;34m\u001b[0m\u001b[0;34m\u001b[0m\u001b[0m\n\u001b[0;32m--> 788\u001b[0;31m         \u001b[0mp\u001b[0m \u001b[0;34m=\u001b[0m \u001b[0msre_parse\u001b[0m\u001b[0;34m.\u001b[0m\u001b[0mparse\u001b[0m\u001b[0;34m(\u001b[0m\u001b[0mp\u001b[0m\u001b[0;34m,\u001b[0m \u001b[0mflags\u001b[0m\u001b[0;34m)\u001b[0m\u001b[0;34m\u001b[0m\u001b[0;34m\u001b[0m\u001b[0m\n\u001b[0m\u001b[1;32m    789\u001b[0m     \u001b[0;32melse\u001b[0m\u001b[0;34m:\u001b[0m\u001b[0;34m\u001b[0m\u001b[0;34m\u001b[0m\u001b[0m\n\u001b[1;32m    790\u001b[0m         \u001b[0mpattern\u001b[0m \u001b[0;34m=\u001b[0m \u001b[0;32mNone\u001b[0m\u001b[0;34m\u001b[0m\u001b[0;34m\u001b[0m\u001b[0m\n",
      "\u001b[0;32m/usr/local/Cellar/python@3.9/3.9.13_1/Frameworks/Python.framework/Versions/3.9/lib/python3.9/sre_parse.py\u001b[0m in \u001b[0;36mparse\u001b[0;34m(str, flags, state)\u001b[0m\n\u001b[1;32m    953\u001b[0m \u001b[0;34m\u001b[0m\u001b[0m\n\u001b[1;32m    954\u001b[0m     \u001b[0;32mtry\u001b[0m\u001b[0;34m:\u001b[0m\u001b[0;34m\u001b[0m\u001b[0;34m\u001b[0m\u001b[0m\n\u001b[0;32m--> 955\u001b[0;31m         \u001b[0mp\u001b[0m \u001b[0;34m=\u001b[0m \u001b[0m_parse_sub\u001b[0m\u001b[0;34m(\u001b[0m\u001b[0msource\u001b[0m\u001b[0;34m,\u001b[0m \u001b[0mstate\u001b[0m\u001b[0;34m,\u001b[0m \u001b[0mflags\u001b[0m \u001b[0;34m&\u001b[0m \u001b[0mSRE_FLAG_VERBOSE\u001b[0m\u001b[0;34m,\u001b[0m \u001b[0;36m0\u001b[0m\u001b[0;34m)\u001b[0m\u001b[0;34m\u001b[0m\u001b[0;34m\u001b[0m\u001b[0m\n\u001b[0m\u001b[1;32m    956\u001b[0m     \u001b[0;32mexcept\u001b[0m \u001b[0mVerbose\u001b[0m\u001b[0;34m:\u001b[0m\u001b[0;34m\u001b[0m\u001b[0;34m\u001b[0m\u001b[0m\n\u001b[1;32m    957\u001b[0m         \u001b[0;31m# the VERBOSE flag was switched on inside the pattern.  to be\u001b[0m\u001b[0;34m\u001b[0m\u001b[0;34m\u001b[0m\u001b[0m\n",
      "\u001b[0;32m/usr/local/Cellar/python@3.9/3.9.13_1/Frameworks/Python.framework/Versions/3.9/lib/python3.9/sre_parse.py\u001b[0m in \u001b[0;36m_parse_sub\u001b[0;34m(source, state, verbose, nested)\u001b[0m\n\u001b[1;32m    442\u001b[0m     \u001b[0mstart\u001b[0m \u001b[0;34m=\u001b[0m \u001b[0msource\u001b[0m\u001b[0;34m.\u001b[0m\u001b[0mtell\u001b[0m\u001b[0;34m(\u001b[0m\u001b[0;34m)\u001b[0m\u001b[0;34m\u001b[0m\u001b[0;34m\u001b[0m\u001b[0m\n\u001b[1;32m    443\u001b[0m     \u001b[0;32mwhile\u001b[0m \u001b[0;32mTrue\u001b[0m\u001b[0;34m:\u001b[0m\u001b[0;34m\u001b[0m\u001b[0;34m\u001b[0m\u001b[0m\n\u001b[0;32m--> 444\u001b[0;31m         itemsappend(_parse(source, state, verbose, nested + 1,\n\u001b[0m\u001b[1;32m    445\u001b[0m                            not nested and not items))\n\u001b[1;32m    446\u001b[0m         \u001b[0;32mif\u001b[0m \u001b[0;32mnot\u001b[0m \u001b[0msourcematch\u001b[0m\u001b[0;34m(\u001b[0m\u001b[0;34m\"|\"\u001b[0m\u001b[0;34m)\u001b[0m\u001b[0;34m:\u001b[0m\u001b[0;34m\u001b[0m\u001b[0;34m\u001b[0m\u001b[0m\n",
      "\u001b[0;32m/usr/local/Cellar/python@3.9/3.9.13_1/Frameworks/Python.framework/Versions/3.9/lib/python3.9/sre_parse.py\u001b[0m in \u001b[0;36m_parse\u001b[0;34m(source, state, verbose, nested, first)\u001b[0m\n\u001b[1;32m    667\u001b[0m                 \u001b[0mitem\u001b[0m \u001b[0;34m=\u001b[0m \u001b[0;32mNone\u001b[0m\u001b[0;34m\u001b[0m\u001b[0;34m\u001b[0m\u001b[0m\n\u001b[1;32m    668\u001b[0m             \u001b[0;32mif\u001b[0m \u001b[0;32mnot\u001b[0m \u001b[0mitem\u001b[0m \u001b[0;32mor\u001b[0m \u001b[0mitem\u001b[0m\u001b[0;34m[\u001b[0m\u001b[0;36m0\u001b[0m\u001b[0;34m]\u001b[0m\u001b[0;34m[\u001b[0m\u001b[0;36m0\u001b[0m\u001b[0;34m]\u001b[0m \u001b[0;32mis\u001b[0m \u001b[0mAT\u001b[0m\u001b[0;34m:\u001b[0m\u001b[0;34m\u001b[0m\u001b[0;34m\u001b[0m\u001b[0m\n\u001b[0;32m--> 669\u001b[0;31m                 raise source.error(\"nothing to repeat\",\n\u001b[0m\u001b[1;32m    670\u001b[0m                                    source.tell() - here + len(this))\n\u001b[1;32m    671\u001b[0m             \u001b[0;32mif\u001b[0m \u001b[0mitem\u001b[0m\u001b[0;34m[\u001b[0m\u001b[0;36m0\u001b[0m\u001b[0;34m]\u001b[0m\u001b[0;34m[\u001b[0m\u001b[0;36m0\u001b[0m\u001b[0;34m]\u001b[0m \u001b[0;32min\u001b[0m \u001b[0m_REPEATCODES\u001b[0m\u001b[0;34m:\u001b[0m\u001b[0;34m\u001b[0m\u001b[0;34m\u001b[0m\u001b[0m\n",
      "\u001b[0;31merror\u001b[0m: nothing to repeat at position 0"
     ]
    }
   ],
   "source": [
    "average_df = pd.read_csv('kiel_average_durations.csv')\n",
    "\n",
    "for key in all_segments_df:\n",
    "    if key == \"<p:>\":\n",
    "        continue\n",
    "    average_segment_value = average_df[average_df[\"segment\"].str.contains(key)].iloc[0]['duration']\n",
    "    filepath = f'{key}_greater_than_average'\n",
    "    greater_than_average_df = all_segments_df[key][all_segments_df[key]['duration'] > average_segment_value]\n",
    "    save_output(OUTPUT_PATH, filepath, greater_than_average_df)\n",
    "    "
   ]
  },
  {
   "cell_type": "code",
   "execution_count": 47,
   "id": "831f4ee5",
   "metadata": {},
   "outputs": [
    {
     "data": {
      "text/plain": [
       "1        0.04\n",
       "17       0.05\n",
       "45       0.03\n",
       "53       0.09\n",
       "77       0.06\n",
       "         ... \n",
       "18452    0.05\n",
       "18470    0.03\n",
       "18486    0.06\n",
       "18501    0.03\n",
       "18508    0.05\n",
       "Name: duration, Length: 918, dtype: float64"
      ]
     },
     "execution_count": 47,
     "metadata": {},
     "output_type": "execute_result"
    }
   ],
   "source": [
    "average_df.loc[average_df['segment'] == '$z']\n",
    "average_df[average_df[\"segment\"].str.contains(\"z\")]\n",
    "all_segments_df[key]['duration']"
   ]
  }
 ],
 "metadata": {
  "kernelspec": {
   "display_name": "Python 3",
   "language": "python",
   "name": "python3"
  },
  "language_info": {
   "codemirror_mode": {
    "name": "ipython",
    "version": 3
   },
   "file_extension": ".py",
   "mimetype": "text/x-python",
   "name": "python",
   "nbconvert_exporter": "python",
   "pygments_lexer": "ipython3",
   "version": "3.9.13"
  }
 },
 "nbformat": 4,
 "nbformat_minor": 5
}
