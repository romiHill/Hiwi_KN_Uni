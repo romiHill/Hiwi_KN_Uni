{
 "cells": [
  {
   "cell_type": "markdown",
   "id": "5d1082f6",
   "metadata": {},
   "source": [
    "# Calculate Durations of Segments"
   ]
  },
  {
   "cell_type": "markdown",
   "id": "993c61d9",
   "metadata": {},
   "source": [
    "## Import Libraries"
   ]
  },
  {
   "cell_type": "code",
   "execution_count": 13,
   "id": "dd403791",
   "metadata": {},
   "outputs": [],
   "source": [
    "import re, os, sys\n",
    "import pandas as pd\n",
    "\n",
    "from config import INPUT_PATH, PHONE_TIER"
   ]
  },
  {
   "cell_type": "markdown",
   "id": "2614c70d",
   "metadata": {},
   "source": [
    "## Classes"
   ]
  },
  {
   "cell_type": "code",
   "execution_count": 30,
   "id": "ae2c32ff",
   "metadata": {},
   "outputs": [],
   "source": [
    "# to do: may need to add info about previous and following segment, \n",
    "# ------ location of segment within word, syllable structure, etc\n",
    "\n",
    "class Interval:\n",
    "    \"\"\"\n",
    "    Class to store start point, end point, duration, and label of an interval\n",
    "    \"\"\"\n",
    "    def __init__(self, start_point = 0.0, end_point = 0.0, label = \"\"):\n",
    "        self.start_point = float(start_point)\n",
    "        self.end_point = float(end_point)\n",
    "        self.duration = -1\n",
    "        self.label = str(label)\n",
    "    def calculate_duration(self):\n",
    "        return (self.end_point - self.start_point)\n",
    "    def __str__(self):\n",
    "        return f'start_point: {self.start_point}\\nend_point: {self.end_point}\\nlabel: {self.label}\\nduration: {self.duration}'\n",
    "\n"
   ]
  },
  {
   "cell_type": "markdown",
   "id": "87a2e60b",
   "metadata": {},
   "source": [
    "## Helper Functions"
   ]
  },
  {
   "cell_type": "code",
   "execution_count": 15,
   "id": "2bf41067",
   "metadata": {},
   "outputs": [],
   "source": [
    "def extract_info(interval, line):\n",
    "    \"\"\"\n",
    "    Extract relevant information from line and add it to Interval object\n",
    "    \"\"\"\n",
    "    if 'xmin = ' in line:\n",
    "        start_point = re.sub(r'.*xmin = (\\d*\\.\\d*)', '\\\\1', line)\n",
    "        interval.start_point = float(start_point)\n",
    "    elif 'xmax = ' in line:\n",
    "        end_point = re.sub(r'.*xmax = (\\d*\\.\\d*)', '\\\\1', line)\n",
    "        interval.end_point = float(end_point)\n",
    "    elif 'text = ' in line:\n",
    "        label = re.sub(r'.*text = \"(.*)\"', '\\\\1', line)\n",
    "        label = label.strip()\n",
    "        if label:\n",
    "            interval.label = label\n",
    "    return interval\n"
   ]
  },
  {
   "cell_type": "code",
   "execution_count": 34,
   "id": "7a095e6c",
   "metadata": {},
   "outputs": [],
   "source": [
    "def df_greater_than_mean(df, column_name = 'duration'):\n",
    "    \"\"\"\n",
    "    return dataframe greater than the mean of the column\n",
    "    \"\"\"\n",
    "    return df[df[column_name] > df[column_name].mean()]"
   ]
  },
  {
   "cell_type": "code",
   "execution_count": 16,
   "id": "d9f818d1",
   "metadata": {},
   "outputs": [],
   "source": [
    "def read_input(in_folder_name = INPUT_PATH):\n",
    "    \"\"\"\n",
    "    read in all textgrid files from folder as list of Interval objects\n",
    "    \"\"\"\n",
    "    for file_name in os.listdir(in_folder_name):\n",
    "        if not file_name.endswith('.TextGrid'):\n",
    "            continue\n",
    "\n",
    "        with open(os.path.join(in_folder_name, file_name), 'r', encoding='utf8') as in_file:\n",
    "            is_phone_tier = False\n",
    "            current_interval = Interval()\n",
    "            intervals = []\n",
    "            for line in in_file:\n",
    "                # entered tier with phone segments\n",
    "                if PHONE_TIER in line:\n",
    "                    is_phone_tier = True\n",
    "                # no longer in phone tier\n",
    "                elif 'name = ' in line:\n",
    "                    is_phone_tier = False\n",
    "                \n",
    "                # extract info if in phone tier\n",
    "                if is_phone_tier:\n",
    "                    current_interval = extract_info(current_interval, line)\n",
    "                # label has been filled, this interval is complete\n",
    "                if current_interval.label:\n",
    "                    # calculate duration and store it in the object\n",
    "                    current_interval.duration = current_interval.calculate_duration()\n",
    "                    # add to list of interval objects and clear current interval\n",
    "                    intervals.append(current_interval)\n",
    "                    current_interval = Interval()\n",
    "\n",
    "            return intervals\n"
   ]
  },
  {
   "cell_type": "markdown",
   "id": "5538a571",
   "metadata": {},
   "source": [
    "### Main Function"
   ]
  },
  {
   "cell_type": "code",
   "execution_count": 17,
   "id": "b7a5fb76",
   "metadata": {},
   "outputs": [],
   "source": [
    "\n",
    "# read in list of interval objects\n",
    "segment_intervals = read_input()\n",
    "\n",
    "# convert list of interval objects to dataframe\n",
    "master_df = pd.DataFrame([interval.__dict__ for interval in segment_intervals])\n",
    "\n",
    "# create dictionary of dataframes based on values in 'label' column\n",
    "all_segments_df = {elem : pd.DataFrame() for elem in master_df.label.unique()}\n",
    "\n",
    "# fill values based on key\n",
    "for key in all_segments_df.keys():\n",
    "    all_segments_df[key] = master_df[:][master_df.label == key]\n",
    "\n"
   ]
  },
  {
   "cell_type": "code",
   "execution_count": 18,
   "id": "6d1f120c",
   "metadata": {},
   "outputs": [
    {
     "data": {
      "text/plain": [
       "array(['w', 'ɐ', 'n', 'θ', 'ɹ', 'iː', 'ɛ', 'ð', 'ə', 'cʰ', 'ej', 'k', 'z',\n",
       "       'd', 'ɒ', 'p', 't', 'f', 'l', 'æ', 'ɑː', 's', 'tʰ', 'ʉː', 'ɪ',\n",
       "       'aj'], dtype=object)"
      ]
     },
     "execution_count": 18,
     "metadata": {},
     "output_type": "execute_result"
    }
   ],
   "source": [
    "# example output - access dataframe by label as key\n",
    "all_segments_df['w']\n",
    "\n",
    "master_df.label.unique()"
   ]
  },
  {
   "cell_type": "code",
   "execution_count": 35,
   "id": "f7a98b71",
   "metadata": {},
   "outputs": [
    {
     "data": {
      "text/html": [
       "<div>\n",
       "<style scoped>\n",
       "    .dataframe tbody tr th:only-of-type {\n",
       "        vertical-align: middle;\n",
       "    }\n",
       "\n",
       "    .dataframe tbody tr th {\n",
       "        vertical-align: top;\n",
       "    }\n",
       "\n",
       "    .dataframe thead th {\n",
       "        text-align: right;\n",
       "    }\n",
       "</style>\n",
       "<table border=\"1\" class=\"dataframe\">\n",
       "  <thead>\n",
       "    <tr style=\"text-align: right;\">\n",
       "      <th></th>\n",
       "      <th></th>\n",
       "      <th>start_point</th>\n",
       "      <th>end_point</th>\n",
       "      <th>duration</th>\n",
       "      <th>label</th>\n",
       "    </tr>\n",
       "  </thead>\n",
       "  <tbody>\n",
       "    <tr>\n",
       "      <th rowspan=\"2\" valign=\"top\">p</th>\n",
       "      <th>23</th>\n",
       "      <td>5.32</td>\n",
       "      <td>5.45</td>\n",
       "      <td>0.13</td>\n",
       "      <td>p</td>\n",
       "    </tr>\n",
       "    <tr>\n",
       "      <th>74</th>\n",
       "      <td>13.04</td>\n",
       "      <td>13.17</td>\n",
       "      <td>0.13</td>\n",
       "      <td>p</td>\n",
       "    </tr>\n",
       "    <tr>\n",
       "      <th rowspan=\"2\" valign=\"top\">t</th>\n",
       "      <th>28</th>\n",
       "      <td>5.96</td>\n",
       "      <td>6.12</td>\n",
       "      <td>0.16</td>\n",
       "      <td>t</td>\n",
       "    </tr>\n",
       "    <tr>\n",
       "      <th>79</th>\n",
       "      <td>13.71</td>\n",
       "      <td>13.83</td>\n",
       "      <td>0.12</td>\n",
       "      <td>t</td>\n",
       "    </tr>\n",
       "    <tr>\n",
       "      <th rowspan=\"4\" valign=\"top\">k</th>\n",
       "      <th>16</th>\n",
       "      <td>4.74</td>\n",
       "      <td>4.91</td>\n",
       "      <td>0.17</td>\n",
       "      <td>k</td>\n",
       "    </tr>\n",
       "    <tr>\n",
       "      <th>38</th>\n",
       "      <td>6.98</td>\n",
       "      <td>7.12</td>\n",
       "      <td>0.14</td>\n",
       "      <td>k</td>\n",
       "    </tr>\n",
       "    <tr>\n",
       "      <th>67</th>\n",
       "      <td>12.52</td>\n",
       "      <td>12.65</td>\n",
       "      <td>0.13</td>\n",
       "      <td>k</td>\n",
       "    </tr>\n",
       "    <tr>\n",
       "      <th>89</th>\n",
       "      <td>14.74</td>\n",
       "      <td>14.88</td>\n",
       "      <td>0.14</td>\n",
       "      <td>k</td>\n",
       "    </tr>\n",
       "    <tr>\n",
       "      <th rowspan=\"2\" valign=\"top\">cʰ</th>\n",
       "      <th>14</th>\n",
       "      <td>4.48</td>\n",
       "      <td>4.63</td>\n",
       "      <td>0.15</td>\n",
       "      <td>cʰ</td>\n",
       "    </tr>\n",
       "    <tr>\n",
       "      <th>65</th>\n",
       "      <td>12.27</td>\n",
       "      <td>12.41</td>\n",
       "      <td>0.14</td>\n",
       "      <td>cʰ</td>\n",
       "    </tr>\n",
       "  </tbody>\n",
       "</table>\n",
       "</div>"
      ],
      "text/plain": [
       "       start_point  end_point  duration label\n",
       "p  23         5.32       5.45      0.13     p\n",
       "   74        13.04      13.17      0.13     p\n",
       "t  28         5.96       6.12      0.16     t\n",
       "   79        13.71      13.83      0.12     t\n",
       "k  16         4.74       4.91      0.17     k\n",
       "   38         6.98       7.12      0.14     k\n",
       "   67        12.52      12.65      0.13     k\n",
       "   89        14.74      14.88      0.14     k\n",
       "cʰ 14         4.48       4.63      0.15    cʰ\n",
       "   65        12.27      12.41      0.14    cʰ"
      ]
     },
     "execution_count": 35,
     "metadata": {},
     "output_type": "execute_result"
    }
   ],
   "source": [
    "# plosives\n",
    "\n",
    "# extract plosives as dictionary of dataframes\n",
    "plosive_frames_dict = {k: all_segments_df.get(k, None) for k in ('p', 't', 'tʰ', 'k', 'cʰ')}\n",
    "\n",
    "# concatenate the dataframes\n",
    "plosive_df = pd.concat(plosive_frames)\n",
    "\n",
    "# extract rows that have duration larger than the mean\n",
    "df_greater_than_mean(plosive_df)\n"
   ]
  }
 ],
 "metadata": {
  "kernelspec": {
   "display_name": "Python 3",
   "language": "python",
   "name": "python3"
  },
  "language_info": {
   "codemirror_mode": {
    "name": "ipython",
    "version": 3
   },
   "file_extension": ".py",
   "mimetype": "text/x-python",
   "name": "python",
   "nbconvert_exporter": "python",
   "pygments_lexer": "ipython3",
   "version": "3.9.13"
  }
 },
 "nbformat": 4,
 "nbformat_minor": 5
}
